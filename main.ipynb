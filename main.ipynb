{
 "cells": [
  {
   "cell_type": "markdown",
   "metadata": {},
   "source": [
    "# 1. Import libraries and initialize Groq client ( LLM )"
   ]
  },
  {
   "cell_type": "code",
   "execution_count": null,
   "metadata": {},
   "outputs": [],
   "source": [
    "import yfinance as yf\n",
    "import pandas as pd\n",
    "import numpy as np\n",
    "import matplotlib.pyplot as plt\n",
    "from groq import Groq\n",
    "import re\n",
    "from datetime import datetime, timedelta\n",
    "\n",
    "# Initialize Groq client (replace with your actual API key)\n",
    "groq_client = Groq(api_key=\"YOUR_API_KEY\")"
   ]
  },
  {
   "cell_type": "markdown",
   "metadata": {},
   "source": [
    "# 2. Define Functions"
   ]
  },
  {
   "cell_type": "markdown",
   "metadata": {},
   "source": [
    "## 2.1 - Get Top S&P 500 Stocks"
   ]
  },
  {
   "cell_type": "code",
   "execution_count": null,
   "metadata": {},
   "outputs": [],
   "source": [
    "import yfinance as yf\n",
    "import pandas as pd\n",
    "import numpy as np\n",
    "import matplotlib.pyplot as plt\n",
    "\n",
    "def get_top_sp500_stocks(n=20):\n",
    "    # declare top 10 stocks in S&P 500\n",
    "    tickers = ['AAPL', 'MSFT', 'AMZN', 'GOOGL', 'GOOG', 'META', 'TSLA', 'BRK.B', 'JPM', 'V']\n",
    "    \n",
    "    # Get market cap for each stock\n",
    "    market_caps = {}\n",
    "    for ticker in tickers:\n",
    "        stock = yf.Ticker(ticker)\n",
    "        market_caps[ticker] = stock.info.get('marketCap', 0)\n",
    "    \n",
    "    # Sort by market cap and get top n\n",
    "    top_stocks = sorted(market_caps.items(), key=lambda x: x[1], reverse=True)[:n]\n",
    "    return [stock[0] for stock in top_stocks]"
   ]
  },
  {
   "cell_type": "markdown",
   "metadata": {},
   "source": [
    "## 2.2 - Get Financial Data"
   ]
  },
  {
   "cell_type": "code",
   "execution_count": null,
   "metadata": {},
   "outputs": [],
   "source": [
    "def get_financial_data(ticker, start_date, end_date):\n",
    "    stock = yf.Ticker(ticker)\n",
    "    \n",
    "    # Get historical price data\n",
    "    price_data = stock.history(start=start_date, end=end_date)\n",
    "    \n",
    "    # Get income statement\n",
    "    income_statement = stock.financials\n",
    "    \n",
    "    return {\n",
    "        \"price_data\": price_data,\n",
    "        \"income_statement\": income_statement\n",
    "    }"
   ]
  },
  {
   "cell_type": "markdown",
   "metadata": {},
   "source": [
    "## 2.3 - Format Income Statement for LLM"
   ]
  },
  {
   "cell_type": "code",
   "execution_count": null,
   "metadata": {},
   "outputs": [],
   "source": [
    "def format_income_statement_for_llm(income_statement_column):\n",
    "    formatted_text = \"\"\n",
    "    for index, value in income_statement_column.items():\n",
    "        formatted_value = f\"{value:,.2f}\" if isinstance(value, (int, float)) else str(value)\n",
    "        formatted_text += f\"{index}: {formatted_value}\\n\"\n",
    "    return formatted_text.strip()"
   ]
  },
  {
   "cell_type": "markdown",
   "metadata": {},
   "source": [
    "## 2.4 - Create Prompt for Income Statement Evaluation"
   ]
  },
  {
   "cell_type": "code",
   "execution_count": null,
   "metadata": {},
   "outputs": [],
   "source": [
    "def create_prompt_for_income_statement(current_year_income_statement, previous_year_income_statement):\n",
    "    prompt = f\"\"\"\n",
    "Evaluate the following income statements for the current year and the previous year. Provide a score between 0 and 10 for each criterion, where 0 is very poor and 10 is excellent. Consider criteria such as revenue growth, profitability, operating efficiency, and earnings quality. Additionally, provide an overall score based on the average of the criteria scores.\n",
    "\n",
    "Income Statement for the Current Year:\n",
    "{current_year_income_statement}\n",
    "\n",
    "Income Statement for the Previous Year:\n",
    "{previous_year_income_statement}\n",
    "\n",
    "Criteria for Evaluation:\n",
    "1. Revenue Growth: Analyze the growth in revenue compared to the previous year.\n",
    "2. Gross Profit Margin: Calculate as Gross Profit / Total Revenue.\n",
    "3. Operating Margin: Calculate as Operating Income / Total Revenue.\n",
    "4. Net Profit Margin: Calculate as Net Income / Total Revenue.\n",
    "5. EPS Growth: Compare EPS to the previous year.\n",
    "6. Operating Efficiency: Consider Operating Expense relative to Total Revenue.\n",
    "7. Interest Coverage Ratio: Calculate as EBIT / Interest Expense.\n",
    "\n",
    "Provide the score for each criterion and an overall score. Include explanations for each score.\n",
    "    \"\"\"\n",
    "    return prompt"
   ]
  },
  {
   "cell_type": "markdown",
   "metadata": {},
   "source": [
    "## 2.5 - Evaluate Income Statements Using LLM\n"
   ]
  },
  {
   "cell_type": "code",
   "execution_count": null,
   "metadata": {},
   "outputs": [],
   "source": [
    "def evaluate_income_statements_llm(current_year_income_statement, previous_year_income_statement):\n",
    "    prompt = create_prompt_for_income_statement(current_year_income_statement, previous_year_income_statement)\n",
    "    response = groq_client.chat.completions.create(\n",
    "        messages=[{\"role\": \"user\", \"content\": prompt}],\n",
    "        model=\"llama-3.1-8b-instant\",\n",
    "        temperature=0.2,\n",
    "        max_tokens=1000\n",
    "    )\n",
    "    analysis = response.choices[0].message.content.strip()\n",
    "    score = re.search(r\"Overall Score: (\\d+\\.\\d+)\", analysis)\n",
    "    return float(score.group(1)) if score else None"
   ]
  },
  {
   "cell_type": "markdown",
   "metadata": {},
   "source": [
    "## 2.6 - Evaluate Stock"
   ]
  },
  {
   "cell_type": "code",
   "execution_count": null,
   "metadata": {},
   "outputs": [],
   "source": [
    "def evaluate_stock(ticker, start_date, end_date):\n",
    "    data = get_financial_data(ticker, start_date, end_date)\n",
    "    income_statement = data['income_statement']\n",
    "    \n",
    "    scores = []\n",
    "    for i in range(len(income_statement.columns) - 1):\n",
    "        current_year = format_income_statement_for_llm(income_statement.iloc[:, i])\n",
    "        previous_year = format_income_statement_for_llm(income_statement.iloc[:, i+1])\n",
    "        score = evaluate_income_statements_llm(current_year, previous_year)\n",
    "        scores.append((income_statement.columns[i].year, score))\n",
    "    \n",
    "    return pd.DataFrame(scores, columns=['Year', 'Score'])"
   ]
  },
  {
   "cell_type": "markdown",
   "metadata": {},
   "source": [
    "## 2.7 - Backtest Strategy"
   ]
  },
  {
   "cell_type": "code",
   "execution_count": 97,
   "metadata": {},
   "outputs": [],
   "source": [
    "import pandas as pd\n",
    "import numpy as np\n",
    "from tabulate import tabulate\n",
    "\n",
    "def backtest_strategy(all_scores, price_data):\n",
    "    portfolio_returns = []\n",
    "    executed_trades = []\n",
    "    \n",
    "    for year in range(min(all_scores['Year']), max(all_scores['Year']) + 1):\n",
    "        # Select top 3 stocks for the year with a score greater than 7\n",
    "        top_stocks = all_scores[(all_scores['Year'] == year) & (all_scores['Score'] > 7)].nlargest(3, 'Score')['Ticker'].tolist()\n",
    "        \n",
    "        # Calculate returns for the selected stocks\n",
    "        returns = []\n",
    "        for stock in top_stocks:\n",
    "            stock_prices = price_data[stock]\n",
    "            start_price = stock_prices[stock_prices.index.year == year].iloc[0]['Close']\n",
    "            end_price = stock_prices[stock_prices.index.year == year].iloc[-1]['Close']\n",
    "            profit_loss = (end_price - start_price) / start_price\n",
    "            returns.append(profit_loss)\n",
    "            \n",
    "            # Record the trade\n",
    "            executed_trades.append({\n",
    "                'Year': year,\n",
    "                'Ticker': stock,\n",
    "                'Start Price': start_price,\n",
    "                'End Price': end_price,\n",
    "                'Profit/Loss (%)': profit_loss * 100\n",
    "            })\n",
    "        \n",
    "        # Calculate average return for the portfolio\n",
    "        portfolio_return = np.mean(returns) if returns else 0  # Handle case where no stocks meet criteria\n",
    "        portfolio_returns.append((year, portfolio_return))\n",
    "    \n",
    "    # Calculate cumulative returns\n",
    "    cumulative_returns = pd.DataFrame(portfolio_returns, columns=['Year', 'Return'])\n",
    "    cumulative_returns['Cumulative Return'] = (1 + cumulative_returns['Return']).cumprod() - 1\n",
    "    \n",
    "    return cumulative_returns, pd.DataFrame(executed_trades)"
   ]
  },
  {
   "cell_type": "markdown",
   "metadata": {},
   "source": [
    "# 3. Main Execution"
   ]
  },
  {
   "cell_type": "markdown",
   "metadata": {},
   "source": [
    "## 3.1 - Get and Save Top 20 Stocks"
   ]
  },
  {
   "cell_type": "code",
   "execution_count": 65,
   "metadata": {},
   "outputs": [
    {
     "name": "stdout",
     "output_type": "stream",
     "text": [
      "Top 20 stocks: ['AAPL', 'MSFT', 'GOOG', 'GOOGL', 'AMZN', 'META', 'TSLA', 'JPM', 'V', 'BRK.B']\n"
     ]
    }
   ],
   "source": [
    "top_stocks = get_top_sp500_stocks(20)\n",
    "pd.DataFrame(top_stocks, columns=['Ticker']).to_csv('top_20_stocks.csv', index=False)\n",
    "\n",
    "# Read the saved stocks\n",
    "top_stocks = pd.read_csv('top_20_stocks.csv')['Ticker'].tolist()\n",
    "print(\"Top 20 stocks:\", top_stocks)\n"
   ]
  },
  {
   "cell_type": "markdown",
   "metadata": {},
   "source": [
    "## 3.2 - Evaluate Income Statement Scores"
   ]
  },
  {
   "cell_type": "code",
   "execution_count": 66,
   "metadata": {},
   "outputs": [
    {
     "name": "stdout",
     "output_type": "stream",
     "text": [
      "Evaluating AAPL...\n",
      "Evaluating MSFT...\n",
      "Evaluating GOOG...\n",
      "Evaluating GOOGL...\n",
      "Evaluating AMZN...\n",
      "Evaluating META...\n",
      "Evaluating TSLA...\n",
      "Evaluating JPM...\n",
      "Evaluating V...\n",
      "Evaluating BRK.B...\n"
     ]
    },
    {
     "name": "stderr",
     "output_type": "stream",
     "text": [
      "BRK.B: No timezone found, symbol may be delisted\n",
      "BRK.B: No timezone found, symbol may be delisted\n",
      "/var/folders/3h/k_7p78896dn6jjq56w5lrq6m0000gn/T/ipykernel_1749/23346134.py:16: FutureWarning: The behavior of DataFrame concatenation with empty or all-NA entries is deprecated. In a future version, this will no longer exclude empty or all-NA columns when determining the result dtypes. To retain the old behavior, exclude the relevant entries before the concat operation.\n",
      "  all_scores = pd.concat(all_scores)\n"
     ]
    }
   ],
   "source": [
    "start_date = datetime.now() - timedelta(days=5*365)\n",
    "end_date = datetime.now()\n",
    "\n",
    "all_scores = []\n",
    "price_data = {}\n",
    "\n",
    "for ticker in top_stocks:\n",
    "    print(f\"Evaluating {ticker}...\")\n",
    "    scores = evaluate_stock(ticker, start_date, end_date)\n",
    "    scores['Ticker'] = ticker\n",
    "    all_scores.append(scores)\n",
    "    \n",
    "    # Get price data for backtesting\n",
    "    price_data[ticker] = get_financial_data(ticker, start_date, end_date)['price_data']\n",
    "\n",
    "all_scores = pd.concat(all_scores)"
   ]
  },
  {
   "cell_type": "code",
   "execution_count": 70,
   "metadata": {},
   "outputs": [
    {
     "name": "stdout",
     "output_type": "stream",
     "text": [
      "   Year  Score Ticker\n",
      "0  2023   6.90   AAPL\n",
      "1  2022   8.10   AAPL\n",
      "2  2021   8.40   AAPL\n",
      "0  2023   8.10   MSFT\n",
      "1  2022   8.40   MSFT\n",
      "2  2021   8.60   MSFT\n",
      "0  2023   8.40   GOOG\n",
      "1  2022   7.40   GOOG\n",
      "2  2021   8.40   GOOG\n",
      "3  2020    NaN   GOOG\n",
      "0  2023    NaN  GOOGL\n",
      "1  2022   7.90  GOOGL\n",
      "2  2021   8.30  GOOGL\n",
      "3  2020    NaN  GOOGL\n",
      "0  2023   7.90   AMZN\n",
      "1  2022   3.40   AMZN\n",
      "2  2021   7.40   AMZN\n",
      "3  2020    NaN   AMZN\n",
      "0  2023   8.30   META\n",
      "1  2022   6.70   META\n",
      "2  2021   8.40   META\n",
      "3  2020    NaN   META\n",
      "0  2023   6.90   TSLA\n",
      "1  2022   8.30   TSLA\n",
      "2  2021   7.40   TSLA\n",
      "3  2020   4.29   TSLA\n",
      "0  2023    NaN    JPM\n",
      "1  2022    NaN    JPM\n",
      "2  2021    NaN    JPM\n",
      "3  2020   6.14    JPM\n",
      "0  2023   8.10      V\n",
      "1  2022    NaN      V\n",
      "2  2021   7.90      V\n",
      "3  2020    NaN      V\n"
     ]
    }
   ],
   "source": [
    "# save the scores into a csv file\n",
    "all_scores.to_csv('all_scores.csv', index=False)\n",
    "\n",
    "print(all_scores)"
   ]
  },
  {
   "cell_type": "markdown",
   "metadata": {},
   "source": [
    "## 3.3 - Save Results"
   ]
  },
  {
   "cell_type": "code",
   "execution_count": 71,
   "metadata": {},
   "outputs": [
    {
     "name": "stdout",
     "output_type": "stream",
     "text": [
      "Pivoted scores have been saved to 'pivoted_stock_scores.csv'\n",
      "Ticker  Year  AAPL  AMZN  GOOG  GOOGL  JPM  META  MSFT  TSLA    V\n",
      "0       2023   6.9   7.9   8.4    NaN  NaN   8.3   8.1   6.9  8.1\n",
      "1       2022   8.1   3.4   7.4    7.9  NaN   6.7   8.4   8.3  NaN\n",
      "2       2021   8.4   7.4   8.4    8.3  NaN   8.4   8.6   7.4  7.9\n",
      "<class 'pandas.core.frame.DataFrame'>\n",
      "RangeIndex: 3 entries, 0 to 2\n",
      "Data columns (total 10 columns):\n",
      " #   Column  Non-Null Count  Dtype  \n",
      "---  ------  --------------  -----  \n",
      " 0   Year    3 non-null      int64  \n",
      " 1   AAPL    3 non-null      float64\n",
      " 2   AMZN    3 non-null      float64\n",
      " 3   GOOG    3 non-null      float64\n",
      " 4   GOOGL   2 non-null      float64\n",
      " 5   JPM     0 non-null      float64\n",
      " 6   META    3 non-null      float64\n",
      " 7   MSFT    3 non-null      float64\n",
      " 8   TSLA    3 non-null      float64\n",
      " 9   V       2 non-null      float64\n",
      "dtypes: float64(9), int64(1)\n",
      "memory usage: 372.0 bytes\n",
      "None\n"
     ]
    }
   ],
   "source": [
    "import pandas as pd\n",
    "\n",
    "# Assuming all_scores is already a DataFrame\n",
    "# Pivot the table\n",
    "pivoted_scores = all_scores.pivot(index='Year', columns='Ticker', values='Score')\n",
    "\n",
    "# Sort the index (Year) in descending order to have the most recent year first\n",
    "pivoted_scores = pivoted_scores.sort_index(ascending=False)\n",
    "\n",
    "# Keep only the last 3 years\n",
    "pivoted_scores = pivoted_scores.head(3)\n",
    "\n",
    "# Reset the index to make 'Year' a regular column\n",
    "pivoted_scores = pivoted_scores.reset_index()\n",
    "\n",
    "# Save the pivoted DataFrame to a CSV file\n",
    "pivoted_scores.to_csv('pivoted_stock_scores.csv', index=False)\n",
    "\n",
    "print(\"Pivoted scores have been saved to 'pivoted_stock_scores.csv'\")\n",
    "\n",
    "# Display the pivoted DataFrame\n",
    "print(pivoted_scores)\n",
    "\n",
    "# Optionally, you can display info about the DataFrame to check its structure\n",
    "print(pivoted_scores.info())"
   ]
  },
  {
   "cell_type": "markdown",
   "metadata": {},
   "source": [
    "## 3.4 - Backtest Strategy"
   ]
  },
  {
   "cell_type": "code",
   "execution_count": 98,
   "metadata": {},
   "outputs": [
    {
     "name": "stdout",
     "output_type": "stream",
     "text": [
      "Executed Trades:\n",
      "+---+------+--------+--------------------+--------------------+---------------------+\n",
      "|   | Year | Ticker |    Start Price     |     End Price      |   Profit/Loss (%)   |\n",
      "+---+------+--------+--------------------+--------------------+---------------------+\n",
      "| 0 | 2021 |  MSFT  | 211.22430419921875 | 329.06622314453125 | 55.789943014402574  |\n",
      "| 1 | 2021 |  AAPL  | 126.8301010131836  | 175.10281372070312 |  38.06092743117955  |\n",
      "| 2 | 2021 |  GOOG  | 86.31378173828125  | 144.5150604248047  |  67.42987911594474  |\n",
      "| 3 | 2022 |  MSFT  | 327.5300598144531  | 236.84625244140625 | -27.687170888809277 |\n",
      "| 4 | 2022 |  TSLA  | 399.9266662597656  | 123.18000030517578 | -69.19935310711031  |\n",
      "| 5 | 2022 |  AAPL  | 179.48110961914062 | 128.86831665039062 | -28.199509728990684 |\n",
      "| 6 | 2023 |  GOOG  | 89.59803771972656  | 140.76980590820312 |  57.11259921623285  |\n",
      "| 7 | 2023 |  META  | 124.48419189453125 |  353.234130859375  |  183.7582230189125  |\n",
      "| 8 | 2023 |  MSFT  | 236.60922241210938 | 374.6700744628906  |  58.34973406502157  |\n",
      "+---+------+--------+--------------------+--------------------+---------------------+\n",
      "\n",
      "Cumulative Returns:\n",
      "+---+--------+---------------------+----------------------+\n",
      "|   |  Year  |       Return        |  Cumulative Return   |\n",
      "+---+--------+---------------------+----------------------+\n",
      "| 0 | 2020.0 |         0.0         |         0.0          |\n",
      "| 1 | 2021.0 |  0.537602498538423  |  0.5376024985384231  |\n",
      "| 2 | 2022.0 | -0.4169534457497009 | -0.10350616142052171 |\n",
      "| 3 | 2023.0 | 0.9974018543338898  |  0.7906584555775569  |\n",
      "+---+--------+---------------------+----------------------+\n"
     ]
    }
   ],
   "source": [
    "cumulative_returns, executed_trades = backtest_strategy(all_scores, price_data)\n",
    "\n",
    "# Print the executed trades in a better format\n",
    "print(\"Executed Trades:\")\n",
    "print(tabulate(executed_trades, headers='keys', tablefmt='pretty'))\n",
    "\n",
    "# Print cumulative returns\n",
    "print(\"\\nCumulative Returns:\")\n",
    "print(tabulate(cumulative_returns, headers='keys', tablefmt='pretty'))"
   ]
  },
  {
   "cell_type": "markdown",
   "metadata": {},
   "source": [
    "## 3.5 - Plot Results"
   ]
  },
  {
   "cell_type": "code",
   "execution_count": 99,
   "metadata": {},
   "outputs": [
    {
     "data": {
      "image/png": "[encoded data removed]",
      "text/plain": [
       "<Figure size 1000x600 with 1 Axes>"
      ]
     },
     "metadata": {},
     "output_type": "display_data"
    }
   ],
   "source": [
    "def plot_portfolio_returns_in_decimal(backtest_results):\n",
    "    plt.figure(figsize=(12, 6))\n",
    "    plt.plot(backtest_results['Year'], backtest_results['Return'], marker='o')\n",
    "    plt.title('Portfolio Annual Returns')\n",
    "    plt.xlabel('Year')\n",
    "    plt.ylabel('Return')\n",
    "    plt.grid(True)\n",
    "    plt.savefig('portfolio_returns.png')\n",
    "    plt.show() \n",
    "\n",
    "def plot_portfolio_annual_returns(portfolio_returns):\n",
    "    # Rename 'Return' to 'Annual Return' and convert to percentages\n",
    "    portfolio_returns = portfolio_returns.rename(columns={'Return': 'Annual Return'})\n",
    "    portfolio_returns['Annual Return'] = portfolio_returns['Annual Return'] * 100\n",
    "    \n",
    "    plt.figure(figsize=(10, 6))\n",
    "    plt.plot(portfolio_returns['Year'], portfolio_returns['Annual Return'], marker='o')\n",
    "    plt.title('Portfolio Annual Returns')\n",
    "    plt.xlabel('Year')\n",
    "    plt.ylabel('Annual Return (%)')\n",
    "    plt.grid(True)\n",
    "    plt.show()\n",
    "\n",
    "# Assuming backtest_results is the DataFrame with the backtest results\n",
    "plot_portfolio_annual_returns(backtest_results)"
   ]
  },
  {
   "cell_type": "markdown",
   "metadata": {},
   "source": [
    "## 3.6 - Calculate and Print Metrics"
   ]
  },
  {
   "cell_type": "code",
   "execution_count": 100,
   "metadata": {},
   "outputs": [
    {
     "name": "stdout",
     "output_type": "stream",
     "text": [
      "Total Return: 79.07%\n",
      "Annual Return: 15.68%\n",
      "Sharpe Ratio: 0.52\n"
     ]
    }
   ],
   "source": [
    "total_return = (backtest_results['Return'] + 1).prod() - 1\n",
    "annual_return = (1 + total_return) ** (1 / len(backtest_results)) - 1\n",
    "sharpe_ratio = np.mean(backtest_results['Return']) / np.std(backtest_results['Return'])\n",
    "\n",
    "print(f\"Total Return: {total_return:.2%}\")\n",
    "print(f\"Annual Return: {annual_return:.2%}\")\n",
    "print(f\"Sharpe Ratio: {sharpe_ratio:.2f}\")"
   ]
  },
  {
   "cell_type": "markdown",
   "metadata": {},
   "source": [
    "## 3.7 - Save Backtest Results"
   ]
  },
  {
   "cell_type": "code",
   "execution_count": 101,
   "metadata": {},
   "outputs": [
    {
     "name": "stdout",
     "output_type": "stream",
     "text": [
      "Backtest results saved to 'backtest_results.csv'\n"
     ]
    }
   ],
   "source": [
    "backtest_results.to_csv('backtest_results.csv', index=False)\n",
    "print(\"Backtest results saved to 'backtest_results.csv'\")"
   ]
  },
  {
   "cell_type": "code",
   "execution_count": null,
   "metadata": {},
   "outputs": [],
   "source": []
  }
 ],
 "metadata": {
  "kernelspec": {
   "display_name": "base",
   "language": "python",
   "name": "python3"
  },
  "language_info": {
   "codemirror_mode": {
    "name": "ipython",
    "version": 3
   },
   "file_extension": ".py",
   "mimetype": "text/x-python",
   "name": "python",
   "nbconvert_exporter": "python",
   "pygments_lexer": "ipython3",
   "version": "3.11.5"
  }
 },
 "nbformat": 4,
 "nbformat_minor": 2
}
